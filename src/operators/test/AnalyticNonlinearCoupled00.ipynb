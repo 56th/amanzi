{
 "metadata": {
  "name": "",
  "signature": "sha256:cea128b57c2c45e8c5cba4f03f5be2efc5c8b07997d3d9377d13ff7637daeff4"
 },
 "nbformat": 3,
 "nbformat_minor": 0,
 "worksheets": [
  {
   "cells": [
    {
     "cell_type": "heading",
     "level": 3,
     "metadata": {},
     "source": [
      "Worksheet for generating gradients, velocities, sources, and boundary conditions"
     ]
    },
    {
     "cell_type": "code",
     "collapsed": false,
     "input": [
      "import sympy"
     ],
     "language": "python",
     "metadata": {},
     "outputs": [],
     "prompt_number": 1
    },
    {
     "cell_type": "markdown",
     "metadata": {},
     "source": [
      "This is for coupled equations of the form:\n",
      "\n",
      "    - div( k0(u,v) grad(u) ) = f0\n",
      "    - div( k1(u,v) grad(v) ) = f1"
     ]
    },
    {
     "cell_type": "code",
     "collapsed": false,
     "input": [
      "x,y = sympy.var('x,y')"
     ],
     "language": "python",
     "metadata": {},
     "outputs": [],
     "prompt_number": 6
    },
    {
     "cell_type": "code",
     "collapsed": false,
     "input": [
      "# user input!\n",
      "u = 2*x**2 + y**2\n",
      "v = (sympy.sin(sympy.pi/4 * (x+y)))**2\n",
      "\n",
      "# note exp() here is very useful, as we need kr > 0\n",
      "ku = sympy.exp(u*v)\n",
      "kv = sympy.exp((u+v)/2)  \n",
      "\n",
      "print \"u = \", sympy.ccode(u)\n",
      "print \"v = \", sympy.ccode(v)\n",
      "print \"\"\n",
      "print \"ku = \", sympy.ccode(ku)\n",
      "print \"kv = \", sympy.ccode(kv)"
     ],
     "language": "python",
     "metadata": {},
     "outputs": [
      {
       "output_type": "stream",
       "stream": "stdout",
       "text": [
        "u =  2*pow(x, 2) + pow(y, 2)\n",
        "v =  pow(sin(M_PI*((1.0L/4.0L)*x + (1.0L/4.0L)*y)), 2)\n",
        "\n",
        "ku =  exp((2*pow(x, 2) + pow(y, 2))*pow(sin(M_PI*((1.0L/4.0L)*x + (1.0L/4.0L)*y)), 2))\n",
        "kv =  exp(pow(x, 2) + (1.0L/2.0L)*pow(y, 2) + (1.0L/2.0L)*pow(sin(M_PI*((1.0L/4.0L)*x + (1.0L/4.0L)*y)), 2))\n"
       ]
      }
     ],
     "prompt_number": 11
    },
    {
     "cell_type": "code",
     "collapsed": false,
     "input": [
      "# print the gradients, in c-code\n",
      "\n",
      "grad_u = sympy.diff(u, x), sympy.diff(u,y)\n",
      "grad_v = sympy.diff(v, x), sympy.diff(v,y)\n",
      "\n",
      "print \"dudx = \", sympy.ccode(grad_u[0])\n",
      "print \"dudy = \", sympy.ccode(grad_u[1])\n",
      "print \"dvdx = \", sympy.ccode(grad_v[0])\n",
      "print \"dvdy = \", sympy.ccode(grad_v[1])\n"
     ],
     "language": "python",
     "metadata": {},
     "outputs": [
      {
       "output_type": "stream",
       "stream": "stdout",
       "text": [
        "dudx =  4*x\n",
        "dudy =  2*y\n",
        "dvdx =  (1.0L/2.0L)*M_PI*sin(M_PI*((1.0L/4.0L)*x + (1.0L/4.0L)*y))*cos(M_PI*((1.0L/4.0L)*x + (1.0L/4.0L)*y))\n",
        "dvdy =  (1.0L/2.0L)*M_PI*sin(M_PI*((1.0L/4.0L)*x + (1.0L/4.0L)*y))*cos(M_PI*((1.0L/4.0L)*x + (1.0L/4.0L)*y))\n"
       ]
      }
     ],
     "prompt_number": 12
    },
    {
     "cell_type": "code",
     "collapsed": false,
     "input": [
      "qu = (ku*grad_u[0], ku*grad_u[1])\n",
      "qv = (kv*grad_v[0], kv*grad_v[1])\n",
      "print \"qu_x = \", sympy.ccode(qu[0])\n",
      "print \"qu_y = \", sympy.ccode(qu[1])\n",
      "print \"qv_x = \", sympy.ccode(qv[0])\n",
      "print \"qv_y = \", sympy.ccode(qv[1])\n"
     ],
     "language": "python",
     "metadata": {},
     "outputs": [
      {
       "output_type": "stream",
       "stream": "stdout",
       "text": [
        "qu_x =  4*x*exp((2*pow(x, 2) + pow(y, 2))*pow(sin(M_PI*((1.0L/4.0L)*x + (1.0L/4.0L)*y)), 2))\n",
        "qu_y =  2*y*exp((2*pow(x, 2) + pow(y, 2))*pow(sin(M_PI*((1.0L/4.0L)*x + (1.0L/4.0L)*y)), 2))\n",
        "qv_x =  (1.0L/2.0L)*M_PI*exp(pow(x, 2) + (1.0L/2.0L)*pow(y, 2) + (1.0L/2.0L)*pow(sin(M_PI*((1.0L/4.0L)*x + (1.0L/4.0L)*y)), 2))*sin(M_PI*((1.0L/4.0L)*x + (1.0L/4.0L)*y))*cos(M_PI*((1.0L/4.0L)*x + (1.0L/4.0L)*y))\n",
        "qv_y =  (1.0L/2.0L)*M_PI*exp(pow(x, 2) + (1.0L/2.0L)*pow(y, 2) + (1.0L/2.0L)*pow(sin(M_PI*((1.0L/4.0L)*x + (1.0L/4.0L)*y)), 2))*sin(M_PI*((1.0L/4.0L)*x + (1.0L/4.0L)*y))*cos(M_PI*((1.0L/4.0L)*x + (1.0L/4.0L)*y))\n"
       ]
      }
     ],
     "prompt_number": 13
    },
    {
     "cell_type": "code",
     "collapsed": false,
     "input": [],
     "language": "python",
     "metadata": {},
     "outputs": [],
     "prompt_number": 13
    },
    {
     "cell_type": "code",
     "collapsed": false,
     "input": [],
     "language": "python",
     "metadata": {},
     "outputs": []
    },
    {
     "cell_type": "markdown",
     "metadata": {},
     "source": [
      "fu = - (sympy.diff(qu[0],x) + sympy.diff(qu[1],y))\n",
      "fv = - (sympy.diff(qv[0],x) + sympy.diff(qv[1],y))\n",
      "\n",
      "print \"fu = \", sympy.ccode(fu)\n",
      "print \"fv = \", sympy.ccode(fv)\n"
     ]
    },
    {
     "cell_type": "code",
     "collapsed": false,
     "input": [],
     "language": "python",
     "metadata": {},
     "outputs": []
    }
   ],
   "metadata": {}
  }
 ]
}